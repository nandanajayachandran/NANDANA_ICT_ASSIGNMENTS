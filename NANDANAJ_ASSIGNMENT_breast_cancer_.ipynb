{
  "nbformat": 4,
  "nbformat_minor": 0,
  "metadata": {
    "colab": {
      "provenance": [],
      "include_colab_link": true
    },
    "kernelspec": {
      "name": "python3",
      "display_name": "Python 3"
    },
    "language_info": {
      "name": "python"
    },
    "accelerator": "GPU",
    "gpuClass": "standard"
  },
  "cells": [
    {
      "cell_type": "markdown",
      "metadata": {
        "id": "view-in-github",
        "colab_type": "text"
      },
      "source": [
        "<a href=\"https://colab.research.google.com/github/nandanajayachandran/NANDANA_ICT_ASSIGNMENTS/blob/main/NANDANAJ_ASSIGNMENT_breast_cancer_.ipynb\" target=\"_parent\"><img src=\"https://colab.research.google.com/assets/colab-badge.svg\" alt=\"Open In Colab\"/></a>"
      ]
    },
    {
      "cell_type": "markdown",
      "source": [
        "# ASSIGNMENT"
      ],
      "metadata": {
        "id": "2IoC4pKQrp_V"
      }
    },
    {
      "cell_type": "code",
      "execution_count": 2,
      "metadata": {
        "id": "iuDzBIVnvOUc"
      },
      "outputs": [],
      "source": [
        "import pandas as pd"
      ]
    },
    {
      "cell_type": "code",
      "source": [
        "data = pd.read_csv(\"/content/breastcancer.csv\")"
      ],
      "metadata": {
        "id": "XzFPgZzPvp5y"
      },
      "execution_count": 3,
      "outputs": []
    },
    {
      "cell_type": "markdown",
      "source": [
        "**PREPROCESSING**"
      ],
      "metadata": {
        "id": "Nk0eLiWp6CIK"
      }
    },
    {
      "cell_type": "code",
      "source": [
        "data.columns"
      ],
      "metadata": {
        "colab": {
          "base_uri": "https://localhost:8080/"
        },
        "id": "jgWXKusHvuz_",
        "outputId": "3e448568-0d57-46fa-d597-550798b4eaec"
      },
      "execution_count": 4,
      "outputs": [
        {
          "output_type": "execute_result",
          "data": {
            "text/plain": [
              "Index(['id', 'diagnosis', 'radius_mean', 'texture_mean', 'perimeter_mean',\n",
              "       'area_mean', 'smoothness_mean', 'compactness_mean', 'concavity_mean',\n",
              "       'concave points_mean', 'symmetry_mean', 'fractal_dimension_mean',\n",
              "       'radius_se', 'texture_se', 'perimeter_se', 'area_se', 'smoothness_se',\n",
              "       'compactness_se', 'concavity_se', 'concave points_se', 'symmetry_se',\n",
              "       'fractal_dimension_se', 'radius_worst', 'texture_worst',\n",
              "       'perimeter_worst', 'area_worst', 'smoothness_worst',\n",
              "       'compactness_worst', 'concavity_worst', 'concave points_worst',\n",
              "       'symmetry_worst', 'fractal_dimension_worst', 'Unnamed: 32'],\n",
              "      dtype='object')"
            ]
          },
          "metadata": {},
          "execution_count": 4
        }
      ]
    },
    {
      "cell_type": "code",
      "source": [
        "data.isna().sum()"
      ],
      "metadata": {
        "colab": {
          "base_uri": "https://localhost:8080/"
        },
        "id": "WBV-ReCQv0qc",
        "outputId": "54b8f6a0-f412-4f84-9353-c2f16ff02eea"
      },
      "execution_count": 5,
      "outputs": [
        {
          "output_type": "execute_result",
          "data": {
            "text/plain": [
              "id                           0\n",
              "diagnosis                    0\n",
              "radius_mean                  0\n",
              "texture_mean                 0\n",
              "perimeter_mean               0\n",
              "area_mean                    0\n",
              "smoothness_mean              0\n",
              "compactness_mean             0\n",
              "concavity_mean               0\n",
              "concave points_mean          0\n",
              "symmetry_mean                0\n",
              "fractal_dimension_mean       0\n",
              "radius_se                    0\n",
              "texture_se                   0\n",
              "perimeter_se                 0\n",
              "area_se                      0\n",
              "smoothness_se                0\n",
              "compactness_se               0\n",
              "concavity_se                 0\n",
              "concave points_se            0\n",
              "symmetry_se                  0\n",
              "fractal_dimension_se         0\n",
              "radius_worst                 0\n",
              "texture_worst                0\n",
              "perimeter_worst              0\n",
              "area_worst                   0\n",
              "smoothness_worst             0\n",
              "compactness_worst            0\n",
              "concavity_worst              0\n",
              "concave points_worst         0\n",
              "symmetry_worst               0\n",
              "fractal_dimension_worst      0\n",
              "Unnamed: 32                569\n",
              "dtype: int64"
            ]
          },
          "metadata": {},
          "execution_count": 5
        }
      ]
    },
    {
      "cell_type": "code",
      "source": [
        "x = data[[ 'radius_mean', 'texture_mean', 'perimeter_mean',\n",
        "       'area_mean', 'smoothness_mean', 'compactness_mean', 'concavity_mean',\n",
        "       'concave points_mean', 'symmetry_mean', 'fractal_dimension_mean',\n",
        "       'radius_se', 'texture_se', 'perimeter_se', 'area_se', 'smoothness_se',\n",
        "       'compactness_se', 'concavity_se', 'concave points_se', 'symmetry_se',\n",
        "       'fractal_dimension_se', 'radius_worst', 'texture_worst',\n",
        "       'perimeter_worst', 'area_worst', 'smoothness_worst',\n",
        "       'compactness_worst', 'concavity_worst', 'concave points_worst',\n",
        "       'symmetry_worst', 'fractal_dimension_worst']]"
      ],
      "metadata": {
        "id": "c8Cb_VCHwBTZ"
      },
      "execution_count": 6,
      "outputs": []
    },
    {
      "cell_type": "code",
      "source": [
        "y = data['diagnosis']"
      ],
      "metadata": {
        "id": "VxFFlWGSwPQ6"
      },
      "execution_count": 7,
      "outputs": []
    },
    {
      "cell_type": "code",
      "source": [
        "y.value_counts()"
      ],
      "metadata": {
        "colab": {
          "base_uri": "https://localhost:8080/"
        },
        "id": "1A2yIpuVwT4q",
        "outputId": "6aad087d-b058-420a-ff17-ade6fea17f85"
      },
      "execution_count": 8,
      "outputs": [
        {
          "output_type": "execute_result",
          "data": {
            "text/plain": [
              "B    357\n",
              "M    212\n",
              "Name: diagnosis, dtype: int64"
            ]
          },
          "metadata": {},
          "execution_count": 8
        }
      ]
    },
    {
      "cell_type": "code",
      "source": [
        "y  = y.map({\"B\":0,\"M\":1})"
      ],
      "metadata": {
        "id": "eZdmKLC6wU4S"
      },
      "execution_count": 9,
      "outputs": []
    },
    {
      "cell_type": "markdown",
      "source": [
        "SPLITTING THE DATA SET FOR ML"
      ],
      "metadata": {
        "id": "wPdmH6JK6MHG"
      }
    },
    {
      "cell_type": "code",
      "source": [
        "from sklearn.model_selection import train_test_split"
      ],
      "metadata": {
        "id": "NXqNESkVwfsV"
      },
      "execution_count": 10,
      "outputs": []
    },
    {
      "cell_type": "code",
      "source": [
        "x_train, x_test, y_train, y_test = train_test_split(x,y,\n",
        "                                                     test_size=0.2,\n",
        "                                                     random_state = 134)"
      ],
      "metadata": {
        "id": "MlOUwLc8wpK8"
      },
      "execution_count": 11,
      "outputs": []
    },
    {
      "cell_type": "code",
      "source": [
        "x_train.shape"
      ],
      "metadata": {
        "colab": {
          "base_uri": "https://localhost:8080/"
        },
        "id": "DAFGrVTrxaht",
        "outputId": "5d31784f-6bdb-4961-b9f4-e4183131d378"
      },
      "execution_count": 12,
      "outputs": [
        {
          "output_type": "execute_result",
          "data": {
            "text/plain": [
              "(455, 30)"
            ]
          },
          "metadata": {},
          "execution_count": 12
        }
      ]
    },
    {
      "cell_type": "code",
      "source": [
        "from tensorflow.keras.models import Sequential"
      ],
      "metadata": {
        "id": "I95cXZ8Zwzcv"
      },
      "execution_count": 13,
      "outputs": []
    },
    {
      "cell_type": "code",
      "source": [
        "from tensorflow.keras.layers import Dense"
      ],
      "metadata": {
        "id": "iE_jtd__xHOc"
      },
      "execution_count": 14,
      "outputs": []
    },
    {
      "cell_type": "markdown",
      "source": [
        "**MODEL-1**"
      ],
      "metadata": {
        "id": "LiJWqNQp6a7d"
      }
    },
    {
      "cell_type": "code",
      "source": [
        "model1 = Sequential()\n",
        "model1.add(Dense(32, input_shape = (30,), activation = \"relu\"))\n",
        "model1.add(Dense(32, activation = \"relu\"))\n",
        "model1.add(Dense(1, activation = \"sigmoid\"))\n",
        "model1.summary()"
      ],
      "metadata": {
        "colab": {
          "base_uri": "https://localhost:8080/"
        },
        "id": "PgqN-gzXxKku",
        "outputId": "8804b237-b85e-4635-8c15-2abdfc1431bf"
      },
      "execution_count": 15,
      "outputs": [
        {
          "output_type": "stream",
          "name": "stdout",
          "text": [
            "Model: \"sequential\"\n",
            "_________________________________________________________________\n",
            " Layer (type)                Output Shape              Param #   \n",
            "=================================================================\n",
            " dense (Dense)               (None, 32)                992       \n",
            "                                                                 \n",
            " dense_1 (Dense)             (None, 32)                1056      \n",
            "                                                                 \n",
            " dense_2 (Dense)             (None, 1)                 33        \n",
            "                                                                 \n",
            "=================================================================\n",
            "Total params: 2,081\n",
            "Trainable params: 2,081\n",
            "Non-trainable params: 0\n",
            "_________________________________________________________________\n"
          ]
        }
      ]
    },
    {
      "cell_type": "code",
      "source": [
        "model1.compile(optimizer = \"sgd\", loss = \"binary_crossentropy\",\n",
        "               metrics = [\"accuracy\"])"
      ],
      "metadata": {
        "id": "b2a5v4RExwCY"
      },
      "execution_count": 16,
      "outputs": []
    },
    {
      "cell_type": "code",
      "source": [
        "model1.fit(x_train, y_train, epochs = 10)"
      ],
      "metadata": {
        "colab": {
          "base_uri": "https://localhost:8080/"
        },
        "id": "xlDD9NZ1x7H0",
        "outputId": "4ba89be1-274e-4a87-d3b4-d83a78827b2f"
      },
      "execution_count": 17,
      "outputs": [
        {
          "output_type": "stream",
          "name": "stdout",
          "text": [
            "Epoch 1/10\n",
            "15/15 [==============================] - 5s 3ms/step - loss: 389.3927 - accuracy: 0.5516\n",
            "Epoch 2/10\n",
            "15/15 [==============================] - 0s 3ms/step - loss: 0.6908 - accuracy: 0.6308\n",
            "Epoch 3/10\n",
            "15/15 [==============================] - 0s 4ms/step - loss: 0.6884 - accuracy: 0.6308\n",
            "Epoch 4/10\n",
            "15/15 [==============================] - 0s 3ms/step - loss: 0.6861 - accuracy: 0.6308\n",
            "Epoch 5/10\n",
            "15/15 [==============================] - 0s 3ms/step - loss: 0.6842 - accuracy: 0.6308\n",
            "Epoch 6/10\n",
            "15/15 [==============================] - 0s 3ms/step - loss: 0.6822 - accuracy: 0.6308\n",
            "Epoch 7/10\n",
            "15/15 [==============================] - 0s 3ms/step - loss: 0.6809 - accuracy: 0.6308\n",
            "Epoch 8/10\n",
            "15/15 [==============================] - 0s 3ms/step - loss: 0.6793 - accuracy: 0.6308\n",
            "Epoch 9/10\n",
            "15/15 [==============================] - 0s 3ms/step - loss: 0.6777 - accuracy: 0.6308\n",
            "Epoch 10/10\n",
            "15/15 [==============================] - 0s 3ms/step - loss: 0.6762 - accuracy: 0.6308\n"
          ]
        },
        {
          "output_type": "execute_result",
          "data": {
            "text/plain": [
              "<keras.callbacks.History at 0x7f17023fd370>"
            ]
          },
          "metadata": {},
          "execution_count": 17
        }
      ]
    },
    {
      "cell_type": "markdown",
      "source": [
        "**In the first model we are getting accuracy of 0.63 and loss of 0.67**"
      ],
      "metadata": {
        "id": "AfVsQLHj6fcH"
      }
    },
    {
      "cell_type": "markdown",
      "source": [
        "**MODEL-2**"
      ],
      "metadata": {
        "id": "sFwbE5-n6215"
      }
    },
    {
      "cell_type": "code",
      "source": [
        "model2 = Sequential()\n",
        "model2.add(Dense(32, input_shape = (30,), activation='linear'))\n",
        "model2.add(Dense(32, activation = \"linear\"))\n",
        "model2.add(Dense(1, activation = \"sigmoid\"))\n",
        "model2.summary()"
      ],
      "metadata": {
        "id": "Fg4Bx8XQyDn-",
        "colab": {
          "base_uri": "https://localhost:8080/"
        },
        "outputId": "a02d115c-5077-4a02-82ea-16f517d0e0bd"
      },
      "execution_count": 18,
      "outputs": [
        {
          "output_type": "stream",
          "name": "stdout",
          "text": [
            "Model: \"sequential_1\"\n",
            "_________________________________________________________________\n",
            " Layer (type)                Output Shape              Param #   \n",
            "=================================================================\n",
            " dense_3 (Dense)             (None, 32)                992       \n",
            "                                                                 \n",
            " dense_4 (Dense)             (None, 32)                1056      \n",
            "                                                                 \n",
            " dense_5 (Dense)             (None, 1)                 33        \n",
            "                                                                 \n",
            "=================================================================\n",
            "Total params: 2,081\n",
            "Trainable params: 2,081\n",
            "Non-trainable params: 0\n",
            "_________________________________________________________________\n"
          ]
        }
      ]
    },
    {
      "cell_type": "code",
      "source": [
        "model2.compile(optimizer = \"adam\", loss = \"binary_crossentropy\",\n",
        "               metrics = [\"accuracy\"])"
      ],
      "metadata": {
        "id": "-J3FFsvkmFpL"
      },
      "execution_count": 19,
      "outputs": []
    },
    {
      "cell_type": "code",
      "source": [
        "model2.fit(x_train, y_train, epochs = 30)"
      ],
      "metadata": {
        "colab": {
          "base_uri": "https://localhost:8080/"
        },
        "id": "wSIeDnh9mMzm",
        "outputId": "937246ab-825f-49f4-e392-6a2e69886132"
      },
      "execution_count": 20,
      "outputs": [
        {
          "output_type": "stream",
          "name": "stdout",
          "text": [
            "Epoch 1/30\n",
            "15/15 [==============================] - 1s 3ms/step - loss: 82.6889 - accuracy: 0.5451\n",
            "Epoch 2/30\n",
            "15/15 [==============================] - 0s 3ms/step - loss: 16.8104 - accuracy: 0.5319\n",
            "Epoch 3/30\n",
            "15/15 [==============================] - 0s 3ms/step - loss: 2.6044 - accuracy: 0.6791\n",
            "Epoch 4/30\n",
            "15/15 [==============================] - 0s 3ms/step - loss: 1.5329 - accuracy: 0.7670\n",
            "Epoch 5/30\n",
            "15/15 [==============================] - 0s 3ms/step - loss: 1.0223 - accuracy: 0.8484\n",
            "Epoch 6/30\n",
            "15/15 [==============================] - 0s 4ms/step - loss: 0.6757 - accuracy: 0.8571\n",
            "Epoch 7/30\n",
            "15/15 [==============================] - 0s 3ms/step - loss: 0.4973 - accuracy: 0.8945\n",
            "Epoch 8/30\n",
            "15/15 [==============================] - 0s 3ms/step - loss: 0.5247 - accuracy: 0.8879\n",
            "Epoch 9/30\n",
            "15/15 [==============================] - 0s 3ms/step - loss: 0.5283 - accuracy: 0.8945\n",
            "Epoch 10/30\n",
            "15/15 [==============================] - 0s 3ms/step - loss: 0.5744 - accuracy: 0.8835\n",
            "Epoch 11/30\n",
            "15/15 [==============================] - 0s 3ms/step - loss: 0.4310 - accuracy: 0.8879\n",
            "Epoch 12/30\n",
            "15/15 [==============================] - 0s 3ms/step - loss: 0.3720 - accuracy: 0.9033\n",
            "Epoch 13/30\n",
            "15/15 [==============================] - 0s 3ms/step - loss: 0.2753 - accuracy: 0.9077\n",
            "Epoch 14/30\n",
            "15/15 [==============================] - 0s 3ms/step - loss: 0.4098 - accuracy: 0.8967\n",
            "Epoch 15/30\n",
            "15/15 [==============================] - 0s 3ms/step - loss: 0.4624 - accuracy: 0.8901\n",
            "Epoch 16/30\n",
            "15/15 [==============================] - 0s 3ms/step - loss: 0.4060 - accuracy: 0.9077\n",
            "Epoch 17/30\n",
            "15/15 [==============================] - 0s 3ms/step - loss: 0.5334 - accuracy: 0.8791\n",
            "Epoch 18/30\n",
            "15/15 [==============================] - 0s 4ms/step - loss: 0.3288 - accuracy: 0.9121\n",
            "Epoch 19/30\n",
            "15/15 [==============================] - 0s 3ms/step - loss: 0.3426 - accuracy: 0.9275\n",
            "Epoch 20/30\n",
            "15/15 [==============================] - 0s 3ms/step - loss: 0.3537 - accuracy: 0.9011\n",
            "Epoch 21/30\n",
            "15/15 [==============================] - 0s 3ms/step - loss: 0.2668 - accuracy: 0.9275\n",
            "Epoch 22/30\n",
            "15/15 [==============================] - 0s 3ms/step - loss: 0.3763 - accuracy: 0.8967\n",
            "Epoch 23/30\n",
            "15/15 [==============================] - 0s 4ms/step - loss: 0.2677 - accuracy: 0.9099\n",
            "Epoch 24/30\n",
            "15/15 [==============================] - 0s 3ms/step - loss: 0.2787 - accuracy: 0.9187\n",
            "Epoch 25/30\n",
            "15/15 [==============================] - 0s 3ms/step - loss: 0.2730 - accuracy: 0.9077\n",
            "Epoch 26/30\n",
            "15/15 [==============================] - 0s 4ms/step - loss: 0.3492 - accuracy: 0.8989\n",
            "Epoch 27/30\n",
            "15/15 [==============================] - 0s 3ms/step - loss: 0.4649 - accuracy: 0.8681\n",
            "Epoch 28/30\n",
            "15/15 [==============================] - 0s 3ms/step - loss: 0.3173 - accuracy: 0.9011\n",
            "Epoch 29/30\n",
            "15/15 [==============================] - 0s 3ms/step - loss: 0.2623 - accuracy: 0.9231\n",
            "Epoch 30/30\n",
            "15/15 [==============================] - 0s 3ms/step - loss: 0.3224 - accuracy: 0.9143\n"
          ]
        },
        {
          "output_type": "execute_result",
          "data": {
            "text/plain": [
              "<keras.callbacks.History at 0x7f1701e57850>"
            ]
          },
          "metadata": {},
          "execution_count": 20
        }
      ]
    },
    {
      "cell_type": "markdown",
      "source": [
        "**It is observed that when the parameters are changed the accuracy is improved and the loss is reduced**"
      ],
      "metadata": {
        "id": "ZABQ1uRc6_ZI"
      }
    },
    {
      "cell_type": "markdown",
      "source": [
        "**MODEL-3**"
      ],
      "metadata": {
        "id": "DXF10T_q7pwz"
      }
    },
    {
      "cell_type": "code",
      "source": [
        "model3 = Sequential()\n",
        "model3.add(Dense(32, input_shape = (30,), activation='relu'))\n",
        "model3.add(Dense(32, activation = \"linear\"))\n",
        "model3.add(Dense(1, activation = \"sigmoid\"))\n",
        "model3.summary()"
      ],
      "metadata": {
        "colab": {
          "base_uri": "https://localhost:8080/"
        },
        "id": "Oq03O_QK7uif",
        "outputId": "68f0a9d5-34eb-4543-d804-5dba08f3cdd1"
      },
      "execution_count": 27,
      "outputs": [
        {
          "output_type": "stream",
          "name": "stdout",
          "text": [
            "Model: \"sequential_3\"\n",
            "_________________________________________________________________\n",
            " Layer (type)                Output Shape              Param #   \n",
            "=================================================================\n",
            " dense_9 (Dense)             (None, 32)                992       \n",
            "                                                                 \n",
            " dense_10 (Dense)            (None, 32)                1056      \n",
            "                                                                 \n",
            " dense_11 (Dense)            (None, 1)                 33        \n",
            "                                                                 \n",
            "=================================================================\n",
            "Total params: 2,081\n",
            "Trainable params: 2,081\n",
            "Non-trainable params: 0\n",
            "_________________________________________________________________\n"
          ]
        }
      ]
    },
    {
      "cell_type": "code",
      "source": [
        "model3.compile(optimizer = \"adam\", loss = \"binary_crossentropy\",\n",
        "               metrics = [\"accuracy\"])"
      ],
      "metadata": {
        "id": "enMdnkuA76T3"
      },
      "execution_count": 28,
      "outputs": []
    },
    {
      "cell_type": "code",
      "source": [
        "model3.fit(x_train, y_train, epochs = 30)"
      ],
      "metadata": {
        "colab": {
          "base_uri": "https://localhost:8080/"
        },
        "id": "5RFDbWkX8n-R",
        "outputId": "5716f2fe-21e9-4f19-fc64-6a4e54acc88e"
      },
      "execution_count": 29,
      "outputs": [
        {
          "output_type": "stream",
          "name": "stdout",
          "text": [
            "Epoch 1/30\n",
            "15/15 [==============================] - 1s 3ms/step - loss: 29.1577 - accuracy: 0.4637\n",
            "Epoch 2/30\n",
            "15/15 [==============================] - 0s 3ms/step - loss: 4.3883 - accuracy: 0.5758\n",
            "Epoch 3/30\n",
            "15/15 [==============================] - 0s 3ms/step - loss: 2.5673 - accuracy: 0.7385\n",
            "Epoch 4/30\n",
            "15/15 [==============================] - 0s 3ms/step - loss: 2.2268 - accuracy: 0.8044\n",
            "Epoch 5/30\n",
            "15/15 [==============================] - 0s 3ms/step - loss: 1.4687 - accuracy: 0.8593\n",
            "Epoch 6/30\n",
            "15/15 [==============================] - 0s 3ms/step - loss: 1.3530 - accuracy: 0.7714\n",
            "Epoch 7/30\n",
            "15/15 [==============================] - 0s 3ms/step - loss: 1.0356 - accuracy: 0.8659\n",
            "Epoch 8/30\n",
            "15/15 [==============================] - 0s 3ms/step - loss: 0.6203 - accuracy: 0.8703\n",
            "Epoch 9/30\n",
            "15/15 [==============================] - 0s 3ms/step - loss: 0.5064 - accuracy: 0.9033\n",
            "Epoch 10/30\n",
            "15/15 [==============================] - 0s 3ms/step - loss: 0.3532 - accuracy: 0.8901\n",
            "Epoch 11/30\n",
            "15/15 [==============================] - 0s 3ms/step - loss: 0.3631 - accuracy: 0.8989\n",
            "Epoch 12/30\n",
            "15/15 [==============================] - 0s 3ms/step - loss: 0.3354 - accuracy: 0.9143\n",
            "Epoch 13/30\n",
            "15/15 [==============================] - 0s 5ms/step - loss: 0.2379 - accuracy: 0.9319\n",
            "Epoch 14/30\n",
            "15/15 [==============================] - 0s 5ms/step - loss: 0.3642 - accuracy: 0.9033\n",
            "Epoch 15/30\n",
            "15/15 [==============================] - 0s 5ms/step - loss: 0.4057 - accuracy: 0.9077\n",
            "Epoch 16/30\n",
            "15/15 [==============================] - 0s 5ms/step - loss: 0.3110 - accuracy: 0.8989\n",
            "Epoch 17/30\n",
            "15/15 [==============================] - 0s 5ms/step - loss: 0.3342 - accuracy: 0.9121\n",
            "Epoch 18/30\n",
            "15/15 [==============================] - 0s 4ms/step - loss: 0.2741 - accuracy: 0.9319\n",
            "Epoch 19/30\n",
            "15/15 [==============================] - 0s 4ms/step - loss: 0.3006 - accuracy: 0.9055\n",
            "Epoch 20/30\n",
            "15/15 [==============================] - 0s 4ms/step - loss: 0.3206 - accuracy: 0.9011\n",
            "Epoch 21/30\n",
            "15/15 [==============================] - 0s 4ms/step - loss: 0.3361 - accuracy: 0.8967\n",
            "Epoch 22/30\n",
            "15/15 [==============================] - 0s 5ms/step - loss: 0.2505 - accuracy: 0.9319\n",
            "Epoch 23/30\n",
            "15/15 [==============================] - 0s 4ms/step - loss: 0.2416 - accuracy: 0.9275\n",
            "Epoch 24/30\n",
            "15/15 [==============================] - 0s 4ms/step - loss: 0.2787 - accuracy: 0.9165\n",
            "Epoch 25/30\n",
            "15/15 [==============================] - 0s 4ms/step - loss: 0.4624 - accuracy: 0.8879\n",
            "Epoch 26/30\n",
            "15/15 [==============================] - 0s 4ms/step - loss: 0.2134 - accuracy: 0.9341\n",
            "Epoch 27/30\n",
            "15/15 [==============================] - 0s 4ms/step - loss: 0.3623 - accuracy: 0.9011\n",
            "Epoch 28/30\n",
            "15/15 [==============================] - 0s 4ms/step - loss: 0.2196 - accuracy: 0.9319\n",
            "Epoch 29/30\n",
            "15/15 [==============================] - 0s 5ms/step - loss: 0.3020 - accuracy: 0.9099\n",
            "Epoch 30/30\n",
            "15/15 [==============================] - 0s 4ms/step - loss: 0.2686 - accuracy: 0.9253\n"
          ]
        },
        {
          "output_type": "execute_result",
          "data": {
            "text/plain": [
              "<keras.callbacks.History at 0x7f16ebc5ff10>"
            ]
          },
          "metadata": {},
          "execution_count": 29
        }
      ]
    },
    {
      "cell_type": "markdown",
      "source": [
        "**It is observed that when the parameters are changed the accuracy is improved and the loss is reduced**"
      ],
      "metadata": {
        "id": "0G-Oe1ax9KuJ"
      }
    },
    {
      "cell_type": "markdown",
      "source": [
        "**Model- 4**"
      ],
      "metadata": {
        "id": "qZ__gfgW9NWV"
      }
    },
    {
      "cell_type": "code",
      "source": [
        "model4 = Sequential()\n",
        "model4.add(Dense(32, input_shape = (30,), activation='linear'))\n",
        "model4.add(Dense(32, activation = \"relu\"))\n",
        "model4.add(Dense(1, activation = \"sigmoid\"))\n",
        "model4.summary()"
      ],
      "metadata": {
        "colab": {
          "base_uri": "https://localhost:8080/"
        },
        "id": "9WTidyYW9UHV",
        "outputId": "9d17cfd5-9ba9-4b1e-ff91-b93c196018ae"
      },
      "execution_count": 36,
      "outputs": [
        {
          "output_type": "stream",
          "name": "stdout",
          "text": [
            "Model: \"sequential_5\"\n",
            "_________________________________________________________________\n",
            " Layer (type)                Output Shape              Param #   \n",
            "=================================================================\n",
            " dense_15 (Dense)            (None, 32)                992       \n",
            "                                                                 \n",
            " dense_16 (Dense)            (None, 32)                1056      \n",
            "                                                                 \n",
            " dense_17 (Dense)            (None, 1)                 33        \n",
            "                                                                 \n",
            "=================================================================\n",
            "Total params: 2,081\n",
            "Trainable params: 2,081\n",
            "Non-trainable params: 0\n",
            "_________________________________________________________________\n"
          ]
        }
      ]
    },
    {
      "cell_type": "code",
      "source": [
        "model4.compile(optimizer = \"adam\", loss = \"binary_crossentropy\",\n",
        "               metrics = [\"accuracy\"])"
      ],
      "metadata": {
        "id": "kD_XdThf9oLh"
      },
      "execution_count": 37,
      "outputs": []
    },
    {
      "cell_type": "code",
      "source": [
        "model4.fit(x_train, y_train, epochs = 15)"
      ],
      "metadata": {
        "colab": {
          "base_uri": "https://localhost:8080/"
        },
        "id": "8MsMhfVz9vv3",
        "outputId": "0c0de1b5-0b75-48f8-efec-c3e1a7ef40a3"
      },
      "execution_count": 42,
      "outputs": [
        {
          "output_type": "stream",
          "name": "stdout",
          "text": [
            "Epoch 1/15\n",
            "15/15 [==============================] - 0s 3ms/step - loss: 0.1760 - accuracy: 0.9451\n",
            "Epoch 2/15\n",
            "15/15 [==============================] - 0s 3ms/step - loss: 0.1577 - accuracy: 0.9451\n",
            "Epoch 3/15\n",
            "15/15 [==============================] - 0s 3ms/step - loss: 0.1375 - accuracy: 0.9473\n",
            "Epoch 4/15\n",
            "15/15 [==============================] - 0s 3ms/step - loss: 0.1609 - accuracy: 0.9429\n",
            "Epoch 5/15\n",
            "15/15 [==============================] - 0s 3ms/step - loss: 0.1591 - accuracy: 0.9385\n",
            "Epoch 6/15\n",
            "15/15 [==============================] - 0s 3ms/step - loss: 0.3481 - accuracy: 0.8835\n",
            "Epoch 7/15\n",
            "15/15 [==============================] - 0s 3ms/step - loss: 0.2721 - accuracy: 0.9209\n",
            "Epoch 8/15\n",
            "15/15 [==============================] - 0s 3ms/step - loss: 0.1934 - accuracy: 0.9407\n",
            "Epoch 9/15\n",
            "15/15 [==============================] - 0s 3ms/step - loss: 0.1949 - accuracy: 0.9363\n",
            "Epoch 10/15\n",
            "15/15 [==============================] - 0s 4ms/step - loss: 0.2493 - accuracy: 0.9297\n",
            "Epoch 11/15\n",
            "15/15 [==============================] - 0s 3ms/step - loss: 0.5748 - accuracy: 0.8703\n",
            "Epoch 12/15\n",
            "15/15 [==============================] - 0s 3ms/step - loss: 0.3824 - accuracy: 0.8923\n",
            "Epoch 13/15\n",
            "15/15 [==============================] - 0s 3ms/step - loss: 0.4724 - accuracy: 0.8835\n",
            "Epoch 14/15\n",
            "15/15 [==============================] - 0s 3ms/step - loss: 0.5311 - accuracy: 0.8571\n",
            "Epoch 15/15\n",
            "15/15 [==============================] - 0s 3ms/step - loss: 0.1674 - accuracy: 0.9451\n"
          ]
        },
        {
          "output_type": "execute_result",
          "data": {
            "text/plain": [
              "<keras.callbacks.History at 0x7f16ecb0f910>"
            ]
          },
          "metadata": {},
          "execution_count": 42
        }
      ]
    },
    {
      "cell_type": "markdown",
      "source": [
        "**With change in parameters it's clear that the efficiency of the network is improving much better than the first, second and third models.**"
      ],
      "metadata": {
        "id": "fsh9k_pi-eTI"
      }
    },
    {
      "cell_type": "code",
      "source": [
        "model5 = Sequential()\n",
        "model5.add(Dense(32, input_shape = (30,), activation='sigmoid'))\n",
        "model5.add(Dense(32, activation = \"linear\"))\n",
        "model5.add(Dense(1, activation = \"sigmoid\"))\n",
        "model5.summary()"
      ],
      "metadata": {
        "colab": {
          "base_uri": "https://localhost:8080/"
        },
        "id": "S26oGLaf-zQM",
        "outputId": "d83185da-ce8a-4045-ed87-7b5b88b32246"
      },
      "execution_count": 43,
      "outputs": [
        {
          "output_type": "stream",
          "name": "stdout",
          "text": [
            "Model: \"sequential_6\"\n",
            "_________________________________________________________________\n",
            " Layer (type)                Output Shape              Param #   \n",
            "=================================================================\n",
            " dense_18 (Dense)            (None, 32)                992       \n",
            "                                                                 \n",
            " dense_19 (Dense)            (None, 32)                1056      \n",
            "                                                                 \n",
            " dense_20 (Dense)            (None, 1)                 33        \n",
            "                                                                 \n",
            "=================================================================\n",
            "Total params: 2,081\n",
            "Trainable params: 2,081\n",
            "Non-trainable params: 0\n",
            "_________________________________________________________________\n"
          ]
        }
      ]
    },
    {
      "cell_type": "code",
      "source": [
        "model5.compile(optimizer = \"adam\", loss = \"binary_crossentropy\",\n",
        "               metrics = [\"accuracy\"])"
      ],
      "metadata": {
        "id": "aRVcI_Z5_qaT"
      },
      "execution_count": 44,
      "outputs": []
    },
    {
      "cell_type": "code",
      "source": [],
      "metadata": {
        "id": "Db2aC6EU_wL0"
      },
      "execution_count": null,
      "outputs": []
    }
  ]
}