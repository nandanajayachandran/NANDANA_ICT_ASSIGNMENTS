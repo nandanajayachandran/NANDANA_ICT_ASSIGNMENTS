{
 "cells": [
  {
   "cell_type": "code",
   "execution_count": 58,
   "id": "5f8b4de3",
   "metadata": {},
   "outputs": [
    {
     "name": "stdout",
     "output_type": "stream",
     "text": [
      "A= [[ 3  5  9]\n",
      " [ 3  3  4]\n",
      " [ 5  9 17]]\n",
      "B= [[2]\n",
      " [1]\n",
      " [4]]\n",
      "Solution x is [[ 1.]\n",
      " [-2.]\n",
      " [ 1.]]\n"
     ]
    }
   ],
   "source": [
    "## Problem 1 \n",
    "#Matrix Manipulations\n",
    "#Lets first create a matrix and perform some manipulations of it.\n",
    "#Using numpy's matrix data structure, define the following matricies:\n",
    "import math\n",
    "import numpy as np\n",
    "A=np.array([[3,5,9],[3,3,4],[5,9,17]])\n",
    "B=np.array([[2],[1],[4]])\n",
    "print(\"A=\",A)\n",
    "print(\"B=\",B)\n",
    "x=np.linalg.solve(A,B)\n",
    "print(\"Solution x is\",x)"
   ]
  },
  {
   "cell_type": "code",
   "execution_count": 55,
   "id": "52a9fc80",
   "metadata": {},
   "outputs": [
    {
     "name": "stdout",
     "output_type": "stream",
     "text": [
      "Sum of two arrays is \n",
      "\n",
      "[[41 57 60]\n",
      " [30 31 37]]\n",
      "Te square of each eac element\n",
      "[[1681 3249 3600]\n",
      " [ 900  961 1369]]\n"
     ]
    }
   ],
   "source": [
    "# Problem 2\n",
    "#Create a result array by adding the following two NumPy arrays. Next, modify the result array by calculating the square of each element\n",
    "#arrayOne = numpy.array([[5, 6, 9], [21 ,18, 27]])\n",
    "#arrayTwo = numpy.array([[15 ,33, 24], [4 ,7, 1]])\n",
    "arrayOne = np.array([[5, 6, 9], [21 ,18, 27]])\n",
    "arrayTwo = np.array([[15 ,33, 24], [4 ,7, 1]])\n",
    "\n",
    "resultArray  = sum(arrayOne,arrayTwo)\n",
    "print(\"Sum of two arrays is \\n\")\n",
    "print(resultArray)\n",
    "print(\"The square of each eac element\")\n",
    "squareArray=resultArray*resultArray\n",
    "print(squareArray)"
   ]
  },
  {
   "cell_type": "code",
   "execution_count": 61,
   "id": "6b5ef3e2",
   "metadata": {},
   "outputs": [
    {
     "name": "stdout",
     "output_type": "stream",
     "text": [
      "maxfromaxis0= [82 94 73]\n",
      "minfromaxis1= [34 12 53]\n"
     ]
    }
   ],
   "source": [
    "# Problem 3\n",
    "#Print max from axis 0 and min from axis 1 from the following 2-D array.\n",
    "#sampleArray = numpy.array([[34,43,73],[82,22,12],[53,94,66]])\n",
    "sampleArray=np.array([[34,43,73],[82,22,12],[53,94,66]])\n",
    "#maximam from axis=0\n",
    "maxfromaxis0=np.max(sampleArray, axis=0)\n",
    "print(\"maxfromaxis0=\",maxfromaxis0)\n",
    "#minimam from axis=1\n",
    "minfromaxis1=np.min(sampleArray,axis=1)\n",
    "print(\"minfromaxis1=\",minfromaxis1)"
   ]
  },
  {
   "cell_type": "code",
   "execution_count": 28,
   "id": "b9fb4519",
   "metadata": {},
   "outputs": [
    {
     "data": {
      "text/plain": [
       "(array([1, 3, 5, 7], dtype=int64),)"
      ]
     },
     "execution_count": 28,
     "metadata": {},
     "output_type": "execute_result"
    }
   ],
   "source": [
    "## Problem 4\n",
    "#Get the positions where elements of a and b match\\Input:  a = np.array([1,2,3,2,3,4,3,4,5,6])\\b = np.array([7,2,10,2,7,4,9,4,9,8])\\Desired Output: array([1, 3, 5, 7])\n",
    "a = np.array([1,2,3,2,3,4,3,4,5,6])\n",
    "b = np.array([7,2,10,2,7,4,9,4,9,8])\n",
    "np.where(a==b)"
   ]
  },
  {
   "cell_type": "code",
   "execution_count": 41,
   "id": "e2aaf143",
   "metadata": {},
   "outputs": [
    {
     "name": "stdout",
     "output_type": "stream",
     "text": [
      "c= [[1 2]\n",
      " [3 4]\n",
      " [5 6]\n",
      " [7 8]]\n",
      "d= [[1 2 5 6]\n",
      " [3 4 7 8]]\n"
     ]
    }
   ],
   "source": [
    "# Problem 5\n",
    "#Given a&b Obtain c and d\n",
    "a=np.array([[1,2],[3,4]])\n",
    "b=np.array([[5,6],[7,8]])\n",
    "c=np.concatenate((a, b), axis=0)\n",
    "print(\"c=\",c)\n",
    "d=np.concatenate((a, b), axis=1)\n",
    "print(\"d=\",d)\n"
   ]
  },
  {
   "cell_type": "code",
   "execution_count": null,
   "id": "b0b25047",
   "metadata": {},
   "outputs": [],
   "source": []
  }
 ],
 "metadata": {
  "kernelspec": {
   "display_name": "Python 3 (ipykernel)",
   "language": "python",
   "name": "python3"
  },
  "language_info": {
   "codemirror_mode": {
    "name": "ipython",
    "version": 3
   },
   "file_extension": ".py",
   "mimetype": "text/x-python",
   "name": "python",
   "nbconvert_exporter": "python",
   "pygments_lexer": "ipython3",
   "version": "3.9.13"
  }
 },
 "nbformat": 4,
 "nbformat_minor": 5
}
